{
  "nbformat": 4,
  "nbformat_minor": 0,
  "metadata": {
    "colab": {
      "provenance": [],
      "authorship_tag": "ABX9TyOiheajJGJQaxglD4VoUGQ0",
      "include_colab_link": true
    },
    "kernelspec": {
      "name": "python3",
      "display_name": "Python 3"
    },
    "language_info": {
      "name": "python"
    }
  },
  "cells": [
    {
      "cell_type": "markdown",
      "metadata": {
        "id": "view-in-github",
        "colab_type": "text"
      },
      "source": [
        "<a href=\"https://colab.research.google.com/github/brayantole/Proyectos-Python/blob/main/pruebas_python.ipynb\" target=\"_parent\"><img src=\"https://colab.research.google.com/assets/colab-badge.svg\" alt=\"Open In Colab\"/></a>"
      ]
    },
    {
      "cell_type": "code",
      "execution_count": 1,
      "metadata": {
        "colab": {
          "base_uri": "https://localhost:8080/"
        },
        "id": "VOrYCylL77aP",
        "outputId": "27908f2b-3bad-47a9-a773-8775b19ddba6"
      },
      "outputs": [
        {
          "output_type": "stream",
          "name": "stdout",
          "text": [
            "Mounted at /content/drive\n"
          ]
        }
      ],
      "source": [
        "# Fecha: 03-10-2025\n",
        "# Autor: Brayan Camilo Tole Yara\n",
        "# Grupo: S4C\n",
        "\n",
        "# Importamos la librería de Google Colab para poder usar Google Drive\n",
        "from google.colab import drive\n",
        "\n",
        "# Montamos (conectamos) Google Drive en la ruta '/content/drive'\n",
        "# Esto nos permite acceder a los archivos que tenemos guardados en nuestro Drive\n",
        "drive.mount('/content/drive')\n"
      ]
    },
    {
      "cell_type": "code",
      "source": [
        "# Importación de librerías estándar\n",
        "\n",
        "# Importamos la clase 'date' del módulo 'datetime'\n",
        "# Esto nos permite trabajar con fechas (día, mes y año)\n",
        "from datetime import date\n"
      ],
      "metadata": {
        "id": "GtkzEA3x8DFD"
      },
      "execution_count": null,
      "outputs": []
    },
    {
      "cell_type": "markdown",
      "source": [
        "#Clase person"
      ],
      "metadata": {
        "id": "CEbY399t8EMN"
      }
    },
    {
      "cell_type": "code",
      "source": [
        "\n",
        "class Person:\n",
        "    \"\"\"\n",
        "    Clase Person:\n",
        "    Representa a una persona genérica con nombre, email y edad.\n",
        "    \"\"\"\n",
        "\n",
        "    def __init__(self, n: str, e: str, b: date):\n",
        "        # Método constructor: se ejecuta al crear un objeto de tipo Person\n",
        "        # n = nombre, e = email, b = fecha de nacimiento\n",
        "        self.__name = n\n",
        "        self.__email = None\n",
        "        self.set_email(e)         # Se valida y guarda el email\n",
        "        self.__age = self.calculateAge(b)  # Se calcula la edad a partir de la fecha\n",
        "\n",
        "    def calculateAge(self, b: date) -> int:\n",
        "        # Calcula la edad de la persona en años a partir de la fecha de nacimiento\n",
        "        days_in_year = 365.2425   # Promedio de días en un año\n",
        "        return int((date.today() - b).days / days_in_year)\n",
        "\n",
        "    def set_email(self, e: str):\n",
        "        # Valida si el email es correcto\n",
        "        # Si el email no es válido, lo pone en None\n",
        "        if e.count(\"@\") == 1 and e.find(\"@\") >= 1 and e.find(\"@\") + 2 < e.rfind(\".\"):\n",
        "            self.__email = e\n",
        "        else:\n",
        "            print(\"Invalid Email:\", e)\n",
        "            self.__email = None\n",
        "\n",
        "    def get_email(self) -> str:\n",
        "        # Devuelve el email de la persona\n",
        "        return self.__email\n",
        "\n",
        "    def get_name(self) -> str:\n",
        "        # Devuelve el nombre de la persona\n",
        "        return self.__name\n",
        "\n",
        "    def set_name(self, n: str):\n",
        "        # Cambia el nombre de la persona\n",
        "        self.__name = n\n",
        "\n",
        "    def get_age(self) -> int:\n",
        "        # Devuelve la edad de la persona\n",
        "        return self.__age\n",
        "\n",
        "    def __eq__(self, other) -> bool:\n",
        "        # Compara dos personas usando su nombre\n",
        "        return self.__name == other.__name\n",
        "\n",
        "    def __str__(self) -> str:\n",
        "        # Devuelve un string con la información de la persona\n",
        "        return f\"name: {self.__name}\\t email: {self.__email}\\t age: {self.__age}\"\n"
      ],
      "metadata": {
        "id": "if6ov4u78Ggm"
      },
      "execution_count": null,
      "outputs": []
    },
    {
      "cell_type": "markdown",
      "source": [
        "#Clase student"
      ],
      "metadata": {
        "id": "HZJO5XTk8HgU"
      }
    },
    {
      "cell_type": "code",
      "source": [
        "\n",
        "class Student(Person):\n",
        "    \"\"\"\n",
        "    Clase Student:\n",
        "    Hereda de Person y agrega atributos específicos de un estudiante,\n",
        "    como ID, cursos matriculados y promedio de notas.\n",
        "    \"\"\"\n",
        "\n",
        "    def __init__(self, n: str, e: str, b: date, ID: int):\n",
        "        # Constructor de Student: llama primero al constructor de Person\n",
        "        # Luego agrega atributos propios del estudiante\n",
        "        super().__init__(n, e, b)   # Llama al constructor de la clase Person\n",
        "        self.__SID = ID             # Identificación del estudiante\n",
        "        self.__Courses = dict()     # Diccionario para guardar cursos y notas\n",
        "        self.__AverageGrade = 0     # Promedio de las notas\n",
        "\n",
        "    def addCourses(self, CourseID: str, result: float):\n",
        "        # Agrega un curso con su calificación al diccionario\n",
        "        self.__Courses[CourseID] = result\n",
        "        self.calculateAverage()     # Recalcula el promedio cada vez que se agrega un curso\n",
        "\n",
        "    def calculateAverage(self):\n",
        "        # Calcula el promedio de todas las notas del estudiante\n",
        "        if len(self.__Courses) > 0:  # Si tiene cursos registrados\n",
        "            total = sum(self.__Courses.values())\n",
        "            self.__AverageGrade = total / len(self.__Courses)\n",
        "        else:\n",
        "            self.__AverageGrade = 0  # Si no hay cursos, el promedio es 0\n",
        "\n",
        "    def get_AverageGrade(self) -> float:\n",
        "        # Devuelve el promedio de notas\n",
        "        return self.__AverageGrade\n",
        "\n",
        "    def get_SID(self) -> int:\n",
        "        # Devuelve el ID del estudiante\n",
        "        return self.__SID\n",
        "\n",
        "    def get_Courses(self) -> dict:\n",
        "        # Devuelve todos los cursos con sus notas\n",
        "        return self.__Courses\n",
        "\n",
        "    def set_SID(self, ID: int):\n",
        "        # Permite cambiar el ID del estudiante\n",
        "        self.__SID = ID\n",
        "\n",
        "    def __str__(self) -> str:\n",
        "        # Representa al estudiante como texto (incluye datos de Person y Student)\n",
        "        return (super().__str__() +\n",
        "                f'\\t SID: {self.__SID}\\t Courses: {self.__Courses}\\t AverageGrade: {self.__AverageGrade}')\n",
        "\n",
        "    def __eq__(self, other) -> bool:\n",
        "        # Compara estudiantes por su ID (True si tienen el mismo SID)\n",
        "        return isinstance(other, Student) and self.__SID == other.__SID\n",
        "\n",
        "    def __lt__(self, other) -> bool:\n",
        "        # Permite comparar estudiantes por su promedio (para ordenarlos)\n",
        "        return self.__AverageGrade < other.__AverageGrade\n"
      ],
      "metadata": {
        "id": "Lr143LgG8Jie"
      },
      "execution_count": null,
      "outputs": []
    },
    {
      "cell_type": "markdown",
      "source": [
        "#Pruebas"
      ],
      "metadata": {
        "id": "Vvg-7rr18LOj"
      }
    },
    {
      "cell_type": "code",
      "source": [
        "# Lista de estudiantes (inicialmente vacía)\n",
        "students_list = []\n",
        "\n",
        "# Creación de estudiantes de ejemplo\n",
        "S1 = Student(\"khouloud\", \"kh@hotmail.com\", date(1995, 2, 3), 123)\n",
        "S1.addCourses(\"CS120\", 90)   # Agregamos cursos con notas\n",
        "S1.addCourses(\"IT320\", 95)\n",
        "S1.addCourses(\"CS100\", 95)\n",
        "\n",
        "S2 = Student(\"khadija\", \"khadija@gmail.com\", date(1995, 9, 3), 232)\n",
        "S2.addCourses(\"CS120\", 80)\n",
        "S2.addCourses(\"IT320\", 75)\n",
        "S2.addCourses(\"CS100\", 95)\n",
        "\n",
        "S3 = Student(\"khaled\", \"khaled@gamil.com\", date(1999, 5, 6), 235)\n",
        "S3.addCourses(\"CS120\", 75)\n",
        "S3.addCourses(\"IT320\", 88)\n",
        "S3.addCourses(\"CS100\", 90)\n",
        "\n",
        "# Agregamos los estudiantes creados a la lista\n",
        "students_list.extend([S1, S2, S3])\n",
        "\n",
        "# Ejemplo de búsqueda de un estudiante\n",
        "# Se crea un estudiante con los mismos datos que S2\n",
        "searchs = Student(\"Khadija\", \"khadija@gmail.com\", date(1995, 9, 3), 232)\n",
        "\n",
        "# Si está en la lista, lo encuentra (usa __eq__ para comparar por ID)\n",
        "if students_list.count(searchs) > 0:\n",
        "    print(\"The student is found\")\n",
        "else:\n",
        "    print(\"The student is NOT found\")\n",
        "\n",
        "# Ordenamiento de estudiantes por promedio (usa __lt__)\n",
        "students_list.sort()\n",
        "\n",
        "# Se imprime la información de cada estudiante\n",
        "for p in students_list:\n",
        "    print(p)\n"
      ],
      "metadata": {
        "colab": {
          "base_uri": "https://localhost:8080/"
        },
        "id": "BysPYI9t8NDD",
        "outputId": "f3601718-8011-4d3b-a695-2e1f46eec76c"
      },
      "execution_count": null,
      "outputs": [
        {
          "output_type": "stream",
          "name": "stdout",
          "text": [
            "The student is found\n",
            "name: khadija\t email: khadija@gmail.com\t age: 30\t SID: 232\t Courses: {'CS120': 80, 'IT320': 75, 'CS100': 95}\t AverageGrade: 83.33333333333333\n",
            "name: khaled\t email: khaled@gamil.com\t age: 26\t SID: 235\t Courses: {'CS120': 75, 'IT320': 88, 'CS100': 90}\t AverageGrade: 84.33333333333333\n",
            "name: khouloud\t email: kh@hotmail.com\t age: 30\t SID: 123\t Courses: {'CS120': 90, 'IT320': 95, 'CS100': 95}\t AverageGrade: 93.33333333333333\n"
          ]
        }
      ]
    },
    {
      "cell_type": "markdown",
      "source": [
        "#pruebas unitarias"
      ],
      "metadata": {
        "id": "7hPj0n8N8Pjg"
      }
    },
    {
      "cell_type": "code",
      "source": [
        "\n",
        "# Este archivo se genera automáticamente como test_classes.py\n",
        "test_code = \"\"\n",
        "\n",
        "# Importamos pytest para hacer pruebas\n",
        "import pytest\n",
        "from datetime import date\n",
        "\n",
        "# Importamos las clases a probar\n",
        "from classes import Person, Student\n",
        "\n",
        "def test_person_creation():\n",
        "    # Probamos la creación de una persona\n",
        "    person = Person(\"John Doe\", \"john.doe@example.com\", date(1990, 5, 20))\n",
        "    assert person.get_name() == \"John Doe\"              # El nombre debe coincidir\n",
        "    assert person.get_email() == \"john.doe@example.com\" # El email debe coincidir\n",
        "    # La edad calculada debe ser igual a la que devuelve calculateAge\n",
        "    assert person.get_age() == person.calculateAge(date(1990, 5, 20))\n",
        "\n",
        "def test_person_email_validation():\n",
        "    # Probamos que el email inválido se guarda como None\n",
        "    person = Person(\"John Doe\", \"invalid_email\", date(1992, 3, 15))\n",
        "    assert person.get_email() is None\n",
        "\n",
        "def test_student_creation():\n",
        "    # Probamos la creación de un estudiante\n",
        "    student = Student(\"Alice\", \"alice@example.com\", date(2000, 1, 1), 12345)\n",
        "    assert student.get_name() == \"Alice\"      # El nombre debe coincidir\n",
        "    assert student.get_SID() == 12345         # El ID debe coincidir\n",
        "    assert student.get_AverageGrade() == 0.0  # El promedio empieza en 0.0\n",
        "\n",
        "def test_student_add_courses():\n",
        "    # Probamos que se agregan cursos y se calcula el promedio\n",
        "    student = Student(\"Bob\", \"bob@example.com\", date(1998, 6, 12), 67890)\n",
        "    student.addCourses(\"CS101\", 90)   # Nota 90\n",
        "    student.addCourses(\"Math101\", 85) # Nota 85\n",
        "    assert len(student.get_Courses()) == 2   # Debe haber 2 cursos\n",
        "    assert student.get_AverageGrade() == 87.5  # El promedio debe ser (90+85)/2 = 87.5\n",
        "\n",
        "# Al final, se crea el archivo de pruebas \"test_classes.py\"\n",
        "with open('test_classes.py', 'w') as f:\n",
        "    f.write(test_code)\n",
        "\n"
      ],
      "metadata": {
        "colab": {
          "base_uri": "https://localhost:8080/",
          "height": 383
        },
        "id": "bHmFPRk48Q81",
        "outputId": "894d1904-d06b-4a6a-ed10-63e0c7de08ff"
      },
      "execution_count": 6,
      "outputs": [
        {
          "output_type": "error",
          "ename": "ModuleNotFoundError",
          "evalue": "No module named 'classes'",
          "traceback": [
            "\u001b[0;31m---------------------------------------------------------------------------\u001b[0m",
            "\u001b[0;31mModuleNotFoundError\u001b[0m                       Traceback (most recent call last)",
            "\u001b[0;32m/tmp/ipython-input-3787590726.py\u001b[0m in \u001b[0;36m<cell line: 0>\u001b[0;34m()\u001b[0m\n\u001b[1;32m      7\u001b[0m \u001b[0;34m\u001b[0m\u001b[0m\n\u001b[1;32m      8\u001b[0m \u001b[0;31m# Importamos las clases a probar\u001b[0m\u001b[0;34m\u001b[0m\u001b[0;34m\u001b[0m\u001b[0m\n\u001b[0;32m----> 9\u001b[0;31m \u001b[0;32mfrom\u001b[0m \u001b[0mclasses\u001b[0m \u001b[0;32mimport\u001b[0m \u001b[0mPerson\u001b[0m\u001b[0;34m,\u001b[0m \u001b[0mStudent\u001b[0m\u001b[0;34m\u001b[0m\u001b[0;34m\u001b[0m\u001b[0m\n\u001b[0m\u001b[1;32m     10\u001b[0m \u001b[0;34m\u001b[0m\u001b[0m\n\u001b[1;32m     11\u001b[0m \u001b[0;32mdef\u001b[0m \u001b[0mtest_person_creation\u001b[0m\u001b[0;34m(\u001b[0m\u001b[0;34m)\u001b[0m\u001b[0;34m:\u001b[0m\u001b[0;34m\u001b[0m\u001b[0;34m\u001b[0m\u001b[0m\n",
            "\u001b[0;31mModuleNotFoundError\u001b[0m: No module named 'classes'",
            "",
            "\u001b[0;31m---------------------------------------------------------------------------\u001b[0;32m\nNOTE: If your import is failing due to a missing package, you can\nmanually install dependencies using either !pip or !apt.\n\nTo view examples of installing some common dependencies, click the\n\"Open Examples\" button below.\n\u001b[0;31m---------------------------------------------------------------------------\u001b[0m\n"
          ],
          "errorDetails": {
            "actions": [
              {
                "action": "open_url",
                "actionText": "Open Examples",
                "url": "/notebooks/snippets/importing_libraries.ipynb"
              }
            ]
          }
        }
      ]
    },
    {
      "cell_type": "code",
      "source": [
        "# Con esto se verifica que el archivo se guardó\n",
        "# El comando \"!ls\" lista los archivos en la carpeta actual\n",
        "# Así podemos ver si existen \"classes.py\" y \"test_classes.py\"\n",
        "!ls\n"
      ],
      "metadata": {
        "id": "hTxA8dtC8S85",
        "colab": {
          "base_uri": "https://localhost:8080/"
        },
        "outputId": "99ccf9fe-f7f0-4593-8399-76bfa2e087cd"
      },
      "execution_count": 3,
      "outputs": [
        {
          "output_type": "stream",
          "name": "stdout",
          "text": [
            "drive  sample_data\n"
          ]
        }
      ]
    },
    {
      "cell_type": "code",
      "source": [
        "# Instalamos pytest en Colab o en una terminal\n",
        "!pip install pytest\n"
      ],
      "metadata": {
        "id": "PXJCge2n8UJv",
        "colab": {
          "base_uri": "https://localhost:8080/"
        },
        "outputId": "07c7b8fe-9b29-47f1-f203-1666f2a8e2d0"
      },
      "execution_count": 4,
      "outputs": [
        {
          "output_type": "stream",
          "name": "stdout",
          "text": [
            "Requirement already satisfied: pytest in /usr/local/lib/python3.12/dist-packages (8.4.2)\n",
            "Requirement already satisfied: iniconfig>=1 in /usr/local/lib/python3.12/dist-packages (from pytest) (2.1.0)\n",
            "Requirement already satisfied: packaging>=20 in /usr/local/lib/python3.12/dist-packages (from pytest) (25.0)\n",
            "Requirement already satisfied: pluggy<2,>=1.5 in /usr/local/lib/python3.12/dist-packages (from pytest) (1.6.0)\n",
            "Requirement already satisfied: pygments>=2.7.2 in /usr/local/lib/python3.12/dist-packages (from pytest) (2.19.2)\n"
          ]
        }
      ]
    },
    {
      "cell_type": "code",
      "source": [
        "# Usamos el comando pytest para ejecutar las pruebas del archivo \"test_classes.py\"\n",
        "# El prefijo \"!\" se usa en Google Colab para ejecutar comandos de consola\n",
        "!pytest test_classes.py\n"
      ],
      "metadata": {
        "id": "FrjugBvC8VZj",
        "colab": {
          "base_uri": "https://localhost:8080/"
        },
        "outputId": "f9fb130e-fb8a-48f4-e66f-785478d1fe75"
      },
      "execution_count": 5,
      "outputs": [
        {
          "output_type": "stream",
          "name": "stdout",
          "text": [
            "\u001b[1m============================= test session starts ==============================\u001b[0m\n",
            "platform linux -- Python 3.12.11, pytest-8.4.2, pluggy-1.6.0\n",
            "rootdir: /content\n",
            "plugins: anyio-4.11.0, typeguard-4.4.4, langsmith-0.4.31\n",
            "\u001b[1mcollecting ... \u001b[0m\u001b[1m\rcollected 0 items                                                              \u001b[0m\n",
            "\n",
            "\u001b[33m============================ \u001b[33mno tests ran\u001b[0m\u001b[33m in 0.01s\u001b[0m\u001b[33m =============================\u001b[0m\n",
            "\u001b[31mERROR: file or directory not found: test_classes.py\n",
            "\u001b[0m\n"
          ]
        }
      ]
    }
  ]
}