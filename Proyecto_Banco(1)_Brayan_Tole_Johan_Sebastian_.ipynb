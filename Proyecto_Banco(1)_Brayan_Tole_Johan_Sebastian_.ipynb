{
  "nbformat": 4,
  "nbformat_minor": 0,
  "metadata": {
    "colab": {
      "provenance": [],
      "include_colab_link": true
    },
    "kernelspec": {
      "name": "python3",
      "display_name": "Python 3"
    },
    "language_info": {
      "name": "python"
    }
  },
  "cells": [
    {
      "cell_type": "markdown",
      "metadata": {
        "id": "view-in-github",
        "colab_type": "text"
      },
      "source": [
        "<a href=\"https://colab.research.google.com/github/brayantole/Proyectos-Python/blob/main/Proyecto_Banco(1)_Brayan_Tole_Johan_Sebastian_.ipynb\" target=\"_parent\"><img src=\"https://colab.research.google.com/assets/colab-badge.svg\" alt=\"Open In Colab\"/></a>"
      ]
    },
    {
      "cell_type": "markdown",
      "source": [
        "# Proyecto Banco en Línea (POO en Python)\n",
        "\n",
        "En este trabajo se implementa un sistema de **Banco en Línea** usando **Programación Orientada a Objetos (POO)** en Python.  \n",
        "Se crean las clases: Usuario, CuentaBancaria y Banco, junto con una simulación de operaciones bancarias.  \n",
        "\n",
        "Objetivos:\n",
        "- Modelar usuarios, cuentas y un banco.\n",
        "- Usar métodos como depositar, retirar y transferir dinero.\n",
        "- Validar saldos después de cada operación."
      ],
      "metadata": {
        "id": "wYtxTLseqJkS"
      }
    },
    {
      "cell_type": "markdown",
      "source": [
        "## Clase Usuario\n",
        "\n",
        "La clase **Usuario** representa a una persona dentro del banco.  \n",
        "Atributos principales:\n",
        " id: número único para identificar al usuario.  \n",
        "nombre: nombre del usuario.  \n",
        " email: correo electrónico.  \n",
        " password_hash: guarda la contraseña de forma segura.  \n",
        "\n",
        "Métodos:\n",
        "registrarse(): confirma registro.  \n",
        "set_password(): guarda la contraseña encriptada.  \n",
        "check_password(): verifica si la contraseña ingresada es correcta.  \n"
      ],
      "metadata": {
        "id": "J0j46BM_qKqb"
      }
    },
    {
      "cell_type": "code",
      "execution_count": 23,
      "metadata": {
        "id": "hSHANDqwqExN"
      },
      "outputs": [],
      "source": [
        "import hashlib\n",
        "import itertools\n",
        "\n",
        "class Usuario:\n",
        "  _id_counter = itertools.count(1) #genera ids unicos automaticos\n",
        "\n",
        "  def __init__(self,nombre:str,email:str):\n",
        "    self.id = next(Usuario._id_counter)\n",
        "    self.nombre = nombre\n",
        "    self.email = email\n",
        "    self.passwor_hash = None\n",
        "\n",
        "  def registrarse(self):\n",
        "    print(f\"Usuario registrado: {self.nombre} (ID: {self.id}, Email: {self.email})\")\n",
        "\n",
        "  def set_password(self,password: str):\n",
        "    self.password_hash = hashlib.sha256(password.encode()).hexdigest()\n",
        "\n",
        "  def check_password(self, password: str) -> bool:\n",
        "        return self.password_hash == hashlib.sha256(password.encode()).hexdigest()"
      ]
    },
    {
      "cell_type": "markdown",
      "source": [
        "## Clase CuentaBancaria\n",
        "\n",
        "La clase **CuentaBancaria** representa una cuenta que pertenece a un usuario.  \n",
        "Atributos:\n",
        "numero_cuenta: identificador único.  \n",
        "saldo: dinero disponible.  \n",
        "usuario: el usuario dueño de la cuenta.  \n",
        "\n",
        "Métodos:\n",
        "depositar(cantidad): aumenta el saldo.  \n",
        "retirar(cantidad): disminuye el saldo si hay dinero suficiente.  \n",
        "consultar_saldo(): muestra el saldo actual."
      ],
      "metadata": {
        "id": "FbVR01M7qONa"
      }
    },
    {
      "cell_type": "code",
      "source": [
        "class CuentaBancaria:\n",
        "    def __init__(self, numero_cuenta: int, usuario: Usuario):\n",
        "        self.numero_cuenta = numero_cuenta\n",
        "        self.usuario = usuario\n",
        "        self.usuario_id = usuario.id\n",
        "        self.saldo = 0.0\n",
        "\n",
        "    def depositar(self, cantidad: float):\n",
        "        self.saldo += cantidad\n",
        "        print(f\"[{self.numero_cuenta}] Depósito: ${cantidad:.2f} | Nuevo saldo: ${self.saldo:.2f}\")\n",
        "\n",
        "    def retirar(self, cantidad: float):\n",
        "        if self.saldo >= cantidad:\n",
        "            self.saldo -= cantidad\n",
        "            print(f\"[{self.numero_cuenta}] Retiro: ${cantidad:.2f} | Nuevo saldo: ${self.saldo:.2f}\")\n",
        "        else:\n",
        "          print(f\"[{self.numero_cuenta}] Fondos insuficientes (Saldo: ${self.saldo:.2f})\")\n",
        "\n",
        "    def consultar_saldo(self):\n",
        "        print(f\"[{self.numero_cuenta}] Saldo actual: ${self.saldo:.2f}\")\n",
        "        return self.saldo"
      ],
      "metadata": {
        "id": "GVpmlKmQrUbX"
      },
      "execution_count": 24,
      "outputs": []
    },
    {
      "cell_type": "markdown",
      "source": [
        "## Clase Banco\n",
        "\n",
        "La clase **Banco** administra todas las cuentas y permite realizar transferencias.  \n",
        "Atributos:\n",
        "nombre: nombre del banco.  \n",
        "cuentas: lista de cuentas registradas.  \n",
        "\n",
        "Métodos:\n",
        "abrir_cuenta(usuario): crea una nueva cuenta para un usuario.  \n",
        "buscar_cuenta(numero): encuentra una cuenta por su número.  \n",
        "realizar_transferencia(origen, destino, cantidad): transfiere dinero entre dos cuentas.  \n"
      ],
      "metadata": {
        "id": "ULBKcqtkrdne"
      }
    },
    {
      "cell_type": "code",
      "source": [
        "class Banco:\n",
        "    def __init__(self, nombre: str):\n",
        "        self.nombre = nombre\n",
        "        self.cuentas = []\n",
        "        self._numero_cuenta = itertools.count(1001)  # Numeración de cuentas\n",
        "\n",
        "    def abrir_cuenta(self, usuario: Usuario) -> CuentaBancaria:\n",
        "        nueva_cuenta = CuentaBancaria(next(self._numero_cuenta), usuario)\n",
        "        self.cuentas.append(nueva_cuenta)\n",
        "        print(f\"Cuenta abierta para {usuario.nombre} | Número de cuenta: {nueva_cuenta.numero_cuenta}\")\n",
        "        return nueva_cuenta\n",
        "\n",
        "    def buscar_cuenta(self, numero_cuenta: int):\n",
        "        for cuenta in self.cuentas:\n",
        "            if cuenta.numero_cuenta == numero_cuenta:\n",
        "                return cuenta\n",
        "        return None\n",
        "\n",
        "    def realizar_transferencia(self, cuenta_origen: CuentaBancaria, cuenta_destino: CuentaBancaria, cantidad: float):\n",
        "        print(f\"Transferencia de ${cantidad:.2f} de {cuenta_origen.numero_cuenta} a {cuenta_destino.numero_cuenta}\")\n",
        "        if cuenta_origen.saldo >= cantidad:\n",
        "            cuenta_origen.retirar(cantidad)\n",
        "            cuenta_destino.depositar(cantidad)\n",
        "            print(\" Transferencia realizada\")\n",
        "        else:\n",
        "            print(\" Fondos insuficientes para la transferencia\")\n",
        "\n",
        "\n"
      ],
      "metadata": {
        "id": "TcGikNvyrj86"
      },
      "execution_count": 25,
      "outputs": []
    },
    {
      "cell_type": "markdown",
      "source": [
        "## Simulación de Operaciones Bancarias\n",
        "\n",
        "- Se crea un banco llamado *Banco JB*.  \n",
        "- Se registran 10 usuarios y se les asigna una cuenta.  \n",
        "- Cada usuario hace 3 transacciones (depósitos y retiros).  \n",
        "- Se realizan al menos 10 transferencias aleatorias.  \n",
        "- Se imprimen los saldos finales de todas las cuentas.  \n"
      ],
      "metadata": {
        "id": "fGrCAGTgrkr-"
      }
    },
    {
      "cell_type": "code",
      "source": [
        "import random\n",
        "\n",
        "if __name__ == \"__main__\":\n",
        "    banco = Banco(\"Banco JB\")\n",
        "\n",
        "    usuarios = []\n",
        "    cuentas = []\n",
        "\n",
        "    # Crear 10 usuarios y cuentas\n",
        "    for i in range(1, 11):\n",
        "        u = Usuario(f\"Usuario{i}\", f\"user{i}@correo.com\")\n",
        "        u.registrarse()\n",
        "        u.set_password(\"clave123\")\n",
        "        usuarios.append(u)\n",
        "\n",
        "        c = banco.abrir_cuenta(u)\n",
        "        cuentas.append(c)\n",
        "\n",
        "    # 3 transacciones por usuario\n",
        "    for cuenta in cuentas:\n",
        "        cuenta.depositar(random.randint(100, 500))\n",
        "        cuenta.retirar(random.randint(50, 200))\n",
        "        cuenta.depositar(random.randint(50, 300))\n",
        "\n",
        "    # 10 transferencias\n",
        "    for _ in range(10):\n",
        "        origen, destino = random.sample(cuentas, 2)\n",
        "        monto = random.randint(20, 150)\n",
        "        banco.realizar_transferencia(origen, destino, monto)\n",
        "\n",
        "    # Saldos finales\n",
        "    print(\"\\n=== Saldos Finales ===\")\n",
        "    for cuenta in cuentas:\n",
        "        cuenta.consultar_saldo()\n"
      ],
      "metadata": {
        "colab": {
          "base_uri": "https://localhost:8080/"
        },
        "id": "hwLyDpdSsUef",
        "outputId": "7dfcf926-7f35-4b31-bcd6-f0936ade7767"
      },
      "execution_count": 26,
      "outputs": [
        {
          "output_type": "stream",
          "name": "stdout",
          "text": [
            "Usuario registrado: Usuario1 (ID: 1, Email: user1@correo.com)\n",
            "Cuenta abierta para Usuario1 | Número de cuenta: 1001\n",
            "Usuario registrado: Usuario2 (ID: 2, Email: user2@correo.com)\n",
            "Cuenta abierta para Usuario2 | Número de cuenta: 1002\n",
            "Usuario registrado: Usuario3 (ID: 3, Email: user3@correo.com)\n",
            "Cuenta abierta para Usuario3 | Número de cuenta: 1003\n",
            "Usuario registrado: Usuario4 (ID: 4, Email: user4@correo.com)\n",
            "Cuenta abierta para Usuario4 | Número de cuenta: 1004\n",
            "Usuario registrado: Usuario5 (ID: 5, Email: user5@correo.com)\n",
            "Cuenta abierta para Usuario5 | Número de cuenta: 1005\n",
            "Usuario registrado: Usuario6 (ID: 6, Email: user6@correo.com)\n",
            "Cuenta abierta para Usuario6 | Número de cuenta: 1006\n",
            "Usuario registrado: Usuario7 (ID: 7, Email: user7@correo.com)\n",
            "Cuenta abierta para Usuario7 | Número de cuenta: 1007\n",
            "Usuario registrado: Usuario8 (ID: 8, Email: user8@correo.com)\n",
            "Cuenta abierta para Usuario8 | Número de cuenta: 1008\n",
            "Usuario registrado: Usuario9 (ID: 9, Email: user9@correo.com)\n",
            "Cuenta abierta para Usuario9 | Número de cuenta: 1009\n",
            "Usuario registrado: Usuario10 (ID: 10, Email: user10@correo.com)\n",
            "Cuenta abierta para Usuario10 | Número de cuenta: 1010\n",
            "[1001] Depósito: $429.00 | Nuevo saldo: $429.00\n",
            "[1001] Retiro: $135.00 | Nuevo saldo: $294.00\n",
            "[1001] Depósito: $254.00 | Nuevo saldo: $548.00\n",
            "[1002] Depósito: $121.00 | Nuevo saldo: $121.00\n",
            "[1002] Fondos insuficientes (Saldo: $121.00)\n",
            "[1002] Depósito: $261.00 | Nuevo saldo: $382.00\n",
            "[1003] Depósito: $277.00 | Nuevo saldo: $277.00\n",
            "[1003] Retiro: $143.00 | Nuevo saldo: $134.00\n",
            "[1003] Depósito: $197.00 | Nuevo saldo: $331.00\n",
            "[1004] Depósito: $402.00 | Nuevo saldo: $402.00\n",
            "[1004] Retiro: $161.00 | Nuevo saldo: $241.00\n",
            "[1004] Depósito: $103.00 | Nuevo saldo: $344.00\n",
            "[1005] Depósito: $403.00 | Nuevo saldo: $403.00\n",
            "[1005] Retiro: $97.00 | Nuevo saldo: $306.00\n",
            "[1005] Depósito: $164.00 | Nuevo saldo: $470.00\n",
            "[1006] Depósito: $107.00 | Nuevo saldo: $107.00\n",
            "[1006] Fondos insuficientes (Saldo: $107.00)\n",
            "[1006] Depósito: $289.00 | Nuevo saldo: $396.00\n",
            "[1007] Depósito: $476.00 | Nuevo saldo: $476.00\n",
            "[1007] Retiro: $99.00 | Nuevo saldo: $377.00\n",
            "[1007] Depósito: $125.00 | Nuevo saldo: $502.00\n",
            "[1008] Depósito: $399.00 | Nuevo saldo: $399.00\n",
            "[1008] Retiro: $124.00 | Nuevo saldo: $275.00\n",
            "[1008] Depósito: $121.00 | Nuevo saldo: $396.00\n",
            "[1009] Depósito: $251.00 | Nuevo saldo: $251.00\n",
            "[1009] Retiro: $150.00 | Nuevo saldo: $101.00\n",
            "[1009] Depósito: $122.00 | Nuevo saldo: $223.00\n",
            "[1010] Depósito: $343.00 | Nuevo saldo: $343.00\n",
            "[1010] Retiro: $190.00 | Nuevo saldo: $153.00\n",
            "[1010] Depósito: $222.00 | Nuevo saldo: $375.00\n",
            "Transferencia de $28.00 de 1002 a 1005\n",
            "[1002] Retiro: $28.00 | Nuevo saldo: $354.00\n",
            "[1005] Depósito: $28.00 | Nuevo saldo: $498.00\n",
            " Transferencia realizada\n",
            "Transferencia de $80.00 de 1005 a 1001\n",
            "[1005] Retiro: $80.00 | Nuevo saldo: $418.00\n",
            "[1001] Depósito: $80.00 | Nuevo saldo: $628.00\n",
            " Transferencia realizada\n",
            "Transferencia de $39.00 de 1003 a 1009\n",
            "[1003] Retiro: $39.00 | Nuevo saldo: $292.00\n",
            "[1009] Depósito: $39.00 | Nuevo saldo: $262.00\n",
            " Transferencia realizada\n",
            "Transferencia de $92.00 de 1006 a 1010\n",
            "[1006] Retiro: $92.00 | Nuevo saldo: $304.00\n",
            "[1010] Depósito: $92.00 | Nuevo saldo: $467.00\n",
            " Transferencia realizada\n",
            "Transferencia de $130.00 de 1010 a 1007\n",
            "[1010] Retiro: $130.00 | Nuevo saldo: $337.00\n",
            "[1007] Depósito: $130.00 | Nuevo saldo: $632.00\n",
            " Transferencia realizada\n",
            "Transferencia de $145.00 de 1003 a 1010\n",
            "[1003] Retiro: $145.00 | Nuevo saldo: $147.00\n",
            "[1010] Depósito: $145.00 | Nuevo saldo: $482.00\n",
            " Transferencia realizada\n",
            "Transferencia de $118.00 de 1005 a 1007\n",
            "[1005] Retiro: $118.00 | Nuevo saldo: $300.00\n",
            "[1007] Depósito: $118.00 | Nuevo saldo: $750.00\n",
            " Transferencia realizada\n",
            "Transferencia de $85.00 de 1007 a 1005\n",
            "[1007] Retiro: $85.00 | Nuevo saldo: $665.00\n",
            "[1005] Depósito: $85.00 | Nuevo saldo: $385.00\n",
            " Transferencia realizada\n",
            "Transferencia de $58.00 de 1001 a 1010\n",
            "[1001] Retiro: $58.00 | Nuevo saldo: $570.00\n",
            "[1010] Depósito: $58.00 | Nuevo saldo: $540.00\n",
            " Transferencia realizada\n",
            "Transferencia de $143.00 de 1010 a 1008\n",
            "[1010] Retiro: $143.00 | Nuevo saldo: $397.00\n",
            "[1008] Depósito: $143.00 | Nuevo saldo: $539.00\n",
            " Transferencia realizada\n",
            "\n",
            "=== Saldos Finales ===\n",
            "[1001] Saldo actual: $570.00\n",
            "[1002] Saldo actual: $354.00\n",
            "[1003] Saldo actual: $147.00\n",
            "[1004] Saldo actual: $344.00\n",
            "[1005] Saldo actual: $385.00\n",
            "[1006] Saldo actual: $304.00\n",
            "[1007] Saldo actual: $665.00\n",
            "[1008] Saldo actual: $539.00\n",
            "[1009] Saldo actual: $262.00\n",
            "[1010] Saldo actual: $397.00\n"
          ]
        }
      ]
    }
  ]
}